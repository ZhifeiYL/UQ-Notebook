{
 "cells": [
  {
   "cell_type": "markdown",
   "source": [
    "## A Case Study to Learn Polynomial Chaos Expansion with Kinetic Models\n",
    "\n",
    "Source of kinetic model:\n",
    "\n",
    "### Reaction pathways in the electrochemical reduction of nitrate on tin\n",
    "\n",
    "Electrochimica Acta Journal\n",
    "[https://doi.org/10.1016/j.electacta.2012.03.154](https://doi.org/10.1016/j.electacta.2012.03.154)\n"
   ],
   "metadata": {
    "collapsed": false,
    "pycharm": {
     "name": "#%% md\n"
    }
   }
  },
  {
   "cell_type": "markdown",
   "source": [
    "#### Description\n",
    "\n",
    "This file implements Polynomial Chaos Expansion (PCE) as a learning tool for UQ.\n",
    "\n",
    "The kinetic model serves a dual purpose: it acts both as a data generator and as a benchmark reference.\n",
    "\n",
    "<p align=\"center\">\n",
    "  <img src=\"mechanism.jpg\" alt=\"Mechanism\" width=\"500\"/>\n",
    "</p>\n",
    "\n",
    "\\begin{align*}\n",
    "\\frac{d[NO_3^-]}{dt} &= -k_1 [NO_3^-] \\\\\n",
    "\\frac{d[NO_2^-]}{dt} &= +k_1 [NO_3^-] - (k_2 + k_4 + k_5)[NO_2^-] \\\\\n",
    "\\frac{d[X]}{dt} &= +k_2 [NO_2^-] - k_3 [X] \\\\\n",
    "\\frac{d[N_2]}{dt} &= +k_3 [X] \\\\\n",
    "\\frac{d[N_2O]}{dt} &= +k_5 [NO_2^-] \\\\\n",
    "\\frac{d[NH_3]}{dt} &= +k_4 [NO_2^-]\n",
    "\\end{align*}\n"
   ],
   "metadata": {
    "collapsed": false,
    "pycharm": {
     "name": "#%% md\n"
    }
   }
  },
  {
   "cell_type": "markdown",
   "source": [
    "### Values obtained in the paper\n",
    "\n",
    "values obtained using MCMC.\n",
    "\n",
    "| Rate constant | 95% credible interval (min^-1) |\n",
    "|---------------|--------------------------------|\n",
    "| k1            | 0.0216±0.0014                  |\n",
    "| k2            | 0.0292±0.0036                  |\n",
    "| k3            | 0.0219±0.0044                  |\n",
    "| k4            | 0.0021±0.0008                  |\n",
    "| k5            | 0.0048±0.0008                  |\n"
   ],
   "metadata": {
    "collapsed": false,
    "pycharm": {
     "name": "#%% md\n"
    }
   }
  },
  {
   "cell_type": "code",
   "execution_count": null,
   "outputs": [],
   "source": [],
   "metadata": {
    "collapsed": false,
    "pycharm": {
     "name": "#%%\n"
    }
   }
  }
 ],
 "metadata": {
  "kernelspec": {
   "display_name": "Python 3",
   "language": "python",
   "name": "python3"
  },
  "language_info": {
   "codemirror_mode": {
    "name": "ipython",
    "version": 2
   },
   "file_extension": ".py",
   "mimetype": "text/x-python",
   "name": "python",
   "nbconvert_exporter": "python",
   "pygments_lexer": "ipython2",
   "version": "2.7.6"
  }
 },
 "nbformat": 4,
 "nbformat_minor": 0
}