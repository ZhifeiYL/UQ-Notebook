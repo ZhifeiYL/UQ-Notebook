{
 "cells": [
  {
   "cell_type": "markdown",
   "source": [
    "## M/M/1 Queue Simulation Problem\n",
    "\n",
    "The M/M/1 queue is a classic model in queueing theory, representing a system with a single server and customers arriving and being served in a first-come, first-served manner. Both the arrival and service processes are assumed to follow an exponential distribution.\n",
    "\n",
    "### Problem Definition\n",
    "\n",
    "In this simulation, we aim to understand the behavior of an M/M/1 queue under different service rates and to estimate the expected waiting time for customers.\n",
    "\n",
    "#### Parameters\n",
    "\n",
    "- **Service Rate** ($\\mu$): The rate at which the service station can service customers. This can be a scalar or a vector, indicating the service rate at each design point.\n",
    "- **Arrival Rate** ($\\lambda$): The rate at which customers arrive at the service station. This is a constant value across the simulation.\n",
    "- **Number of Replications** ($n$): The number of simulations (or replications) to run at each design point. This helps estimate the variability in the system.\n",
    "- **Run Length**: The number of customers simulated in each replication, determining the length of each queue simulation.\n",
    "- **Initialization Method**: The method used to initialize the simulation. Options include 'stationary', 'mean', and 'zero'.\n",
    "\n",
    "### Objectives\n",
    "\n",
    "1. **Estimate Mean Waiting Time**: Compute the average waiting time of customers at each design point, averaged over all replications.\n",
    "2. **Estimate Variance in Waiting Time**: Calculate the variance in waiting times at each design point to understand the system's variability.\n",
    "\n",
    "### Equations\n",
    "\n",
    "The expected steady-state waiting time in an M/M/1 queue is given by:\n",
    "\n",
    "$$ W = \\frac{\\lambda}{\\mu(\\mu - \\lambda)} $$\n",
    "\n",
    "Where:\n",
    "- $W$: Expected waiting time\n",
    "- $\\lambda$: Arrival rate\n",
    "- $\\mu$: Service rate\n",
    "\n",
    "This equation is used to calculate the theoretical mean waiting time at each design point for comparison with simulated results.\n"
   ],
   "metadata": {
    "collapsed": false,
    "pycharm": {
     "name": "#%% md\n"
    }
   }
  },
  {
   "cell_type": "code",
   "execution_count": 12,
   "outputs": [],
   "source": [
    "import numpy as np\n",
    "\n",
    "# Configuration parameters\n",
    "maxx = 2.0\n",
    "minx = 1.1\n",
    "arrival_rate = 1.0\n",
    "K = 1000  # Number of prediction points\n",
    "k = 10    # Number of design points\n",
    "runlength = 3000\n",
    "C = 960   # Total computation budget\n",
    "q = 0     # Degree of polynomial to fit in regression part (default)\n",
    "\n",
    "# Generate evenly distributed design and prediction points\n",
    "X = np.linspace(minx, maxx, k) # Design points\n",
    "XK = np.linspace(minx, maxx, K) # Prediction points\n",
    "\n",
    "# Analytic values at design and prediction points\n",
    "truek = arrival_rate / (X * (X - arrival_rate))\n",
    "true = arrival_rate / (XK * (XK - arrival_rate))\n",
    "\n",
    "# Effort allocation is proportional to standard deviation\n",
    "rho = 1.0 / X\n",
    "ratio = np.sqrt(4 * rho / (1 - rho) ** 4)\n",
    "n = np.ceil(C * ratio / np.sum(ratio)).astype(int)  # Replications at each design point\n",
    "\n",
    "# Basis function matrix\n",
    "B = X ** np.arange(q + 1)\n",
    "BK = XK ** np.arange(q + 1)"
   ],
   "metadata": {
    "collapsed": false,
    "pycharm": {
     "name": "#%%\n"
    }
   }
  },
  {
   "cell_type": "code",
   "execution_count": 12,
   "outputs": [],
   "source": [],
   "metadata": {
    "collapsed": false,
    "pycharm": {
     "name": "#%%\n"
    }
   }
  },
  {
   "cell_type": "code",
   "execution_count": 13,
   "outputs": [],
   "source": [
    "from mm1_sim import MM1sim\n",
    "\n",
    "Y, Vhat = MM1sim(X.flatten(), arrival_rate, n, runlength, 'stationary')"
   ],
   "metadata": {
    "collapsed": false,
    "pycharm": {
     "name": "#%%\n"
    }
   }
  }
 ],
 "metadata": {
  "kernelspec": {
   "display_name": "Python 3",
   "language": "python",
   "name": "python3"
  },
  "language_info": {
   "codemirror_mode": {
    "name": "ipython",
    "version": 2
   },
   "file_extension": ".py",
   "mimetype": "text/x-python",
   "name": "python",
   "nbconvert_exporter": "python",
   "pygments_lexer": "ipython2",
   "version": "2.7.6"
  }
 },
 "nbformat": 4,
 "nbformat_minor": 0
}