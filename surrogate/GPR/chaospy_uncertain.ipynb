{
 "cells": [
  {
   "cell_type": "code",
   "execution_count": 1,
   "metadata": {
    "collapsed": true,
    "ExecuteTime": {
     "end_time": "2024-03-08T20:36:29.062545100Z",
     "start_time": "2024-03-08T20:36:27.990689100Z"
    }
   },
   "outputs": [],
   "source": []
  },
  {
   "cell_type": "code",
   "execution_count": 2,
   "outputs": [],
   "source": [
    "import numpy as np\n",
    "import matplotlib.pyplot as plt\n",
    "\n",
    "# Data Generation\n",
    "# np.random.seed(1234)\n",
    "n = 30\n",
    "num_rep = 10\n",
    "X = np.linspace(0,10,n)\n",
    "X = np.reshape(X.repeat(num_rep), (-1,1))\n",
    "sigma = 0.2\n",
    "\n",
    "f_true = lambda x: -np.cos(np.pi * x) + np.sin(4. * np.pi * x)\n",
    "Y = f_true(X) + sigma * np.reshape(np.random.normal(loc=0, scale=sigma, size=n*num_rep), (-1,1))  # Training outputs\n",
    "\n",
    "# ======== everything above is in a black-box, we only know X, Y ========"
   ],
   "metadata": {
    "collapsed": false,
    "ExecuteTime": {
     "end_time": "2024-03-08T20:36:51.050685700Z",
     "start_time": "2024-03-08T20:36:50.348359900Z"
    }
   }
  },
  {
   "cell_type": "code",
   "execution_count": 3,
   "outputs": [],
   "source": [
    "import chaospy as cp\n",
    "# Define the range of the input\n",
    "q_pce = cp.Uniform(0, 10)\n",
    "\n",
    "# Create an orthogonal polynomial basis\n",
    "degree = 5  # Degree of the polynomial\n",
    "polynomials_pce = cp.orth_ttr(degree, q_pce)\n",
    "\n",
    "# Fit the PCE model to the data\n",
    "pce_model_cp = cp.fit_regression(polynomials_pce, X.flatten(), Y.flatten())"
   ],
   "metadata": {
    "collapsed": false,
    "ExecuteTime": {
     "end_time": "2024-03-08T20:36:51.160436200Z",
     "start_time": "2024-03-08T20:36:51.054673900Z"
    }
   }
  },
  {
   "cell_type": "code",
   "execution_count": null,
   "outputs": [],
   "source": [],
   "metadata": {
    "collapsed": false
   }
  }
 ],
 "metadata": {
  "kernelspec": {
   "display_name": "Python 3",
   "language": "python",
   "name": "python3"
  },
  "language_info": {
   "codemirror_mode": {
    "name": "ipython",
    "version": 2
   },
   "file_extension": ".py",
   "mimetype": "text/x-python",
   "name": "python",
   "nbconvert_exporter": "python",
   "pygments_lexer": "ipython2",
   "version": "2.7.6"
  }
 },
 "nbformat": 4,
 "nbformat_minor": 0
}
